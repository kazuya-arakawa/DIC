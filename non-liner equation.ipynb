{
 "cells": [
  {
   "cell_type": "markdown",
   "metadata": {},
   "source": [
    "参考資料：http://www-it.sci.waseda.ac.jp/CPR2/classx1/slides/Cpro2_10th.pdf\n",
    "\n",
    "http://www.ep.sci.hokudai.ac.jp/~gfdlab/comptech/y2011/resume/0526/2011_0526-ogihara.pdf"
   ]
  },
  {
   "cell_type": "code",
   "execution_count": 24,
   "metadata": {
    "scrolled": true
   },
   "outputs": [
    {
     "data": {
      "text/plain": [
       "<matplotlib.legend.Legend at 0x7fa2bf99d278>"
      ]
     },
     "execution_count": 24,
     "metadata": {},
     "output_type": "execute_result"
    },
    {
     "data": {
      "image/png": "[encoded data removed]",
      "text/plain": [
       "<matplotlib.figure.Figure at 0x7fa2bfd71da0>"
      ]
     },
     "metadata": {},
     "output_type": "display_data"
    }
   ],
   "source": [
    "%matplotlib inline\n",
    "import numpy as np\n",
    "import matplotlib.pyplot as plt\n",
    "\n",
    "e = 10**-6\n",
    "f = lambda x:(x - 39)**5 + (x-37)**2 + 39*x + 200\n",
    "x1 = np.linspace(-100,100,100)\n",
    "x2 = np.linspace(-1000,1000,100)\n",
    "y1 = f(x1)\n",
    "y2 = f(x2)\n",
    "\n",
    "fig = plt.figure()\n",
    "ax1 = fig.add_subplot(1,2,1)\n",
    "ax2 = fig.add_subplot(1,2,2)\n",
    "\n",
    "#この時点で描画されるっぽい\n",
    "ax1.plot(x1,y1,label='type1')\n",
    "ax2.plot(x2,y2,label='type2')\n",
    "\n",
    "#凡例\n",
    "ax1.legend()\n",
    "ax2.legend()\n",
    "\n",
    "#plt.show()\n",
    "\n",
    "# これは存在しない！\n",
    "# ax1.show()\n",
    "# ax2.show()"
   ]
  },
  {
   "cell_type": "code",
   "execution_count": null,
   "metadata": {},
   "outputs": [],
   "source": []
  },
  {
   "cell_type": "code",
   "execution_count": null,
   "metadata": {},
   "outputs": [],
   "source": []
  },
  {
   "cell_type": "markdown",
   "metadata": {},
   "source": [
    "# 二分法"
   ]
  },
  {
   "cell_type": "code",
   "execution_count": 57,
   "metadata": {
    "scrolled": true
   },
   "outputs": [
    {
     "data": {
      "image/png": "[encoded data removed]",
      "text/plain": [
       "<matplotlib.figure.Figure at 0x7fa2bf78cba8>"
      ]
     },
     "metadata": {},
     "output_type": "display_data"
    }
   ],
   "source": [
    "%matplotlib inline\n",
    "import numpy as np\n",
    "import matplotlib.pyplot as plt\n",
    "\n",
    "f = lambda x:x**3 + x**2 -x -10**3\n",
    "x1 = np.linspace(-10,10,100)\n",
    "x2 = np.linspace(-20,20,100)\n",
    "y1 = f(x1)\n",
    "y2 = f(x2)\n",
    "\n",
    "fig = plt.figure()\n",
    "ax1 = fig.add_subplot(1,2,1)\n",
    "ax2 = fig.add_subplot(1,2,2)\n",
    "\n",
    "ax1.plot(x1,y1,label='type1')\n",
    "ax2.plot(x2,y2,label='type2')\n",
    "\n",
    "#凡例\n",
    "ax1.legend()\n",
    "ax2.legend()\n",
    "\n",
    "#グラフが重なる場合に使用\n",
    "plt.tight_layout()\n",
    "plt.show()"
   ]
  },
  {
   "cell_type": "code",
   "execution_count": 88,
   "metadata": {},
   "outputs": [
    {
     "name": "stdout",
     "output_type": "stream",
     "text": [
      "*----------Processing----------*\n",
      "a=0.000000,b=20.000000\n",
      "a=0.000000,b=10.000000\n",
      "a=5.000000,b=10.000000\n",
      "a=7.500000,b=10.000000\n",
      "a=8.750000,b=10.000000\n",
      "a=9.375000,b=10.000000\n",
      "a=9.687500,b=10.000000\n",
      "a=9.687500,b=9.843750\n",
      "a=9.687500,b=9.765625\n",
      "a=9.687500,b=9.726562\n",
      "a=9.707031,b=9.726562\n",
      "a=9.707031,b=9.716797\n",
      "a=9.707031,b=9.711914\n",
      "a=9.709473,b=9.711914\n",
      "a=9.709473,b=9.710693\n",
      "a=9.709473,b=9.710083\n",
      "a=9.709473,b=9.709778\n",
      "a=9.709625,b=9.709778\n",
      "a=9.709702,b=9.709778\n",
      "a=9.709740,b=9.709778\n",
      "a=9.709740,b=9.709759\n",
      "a=9.709749,b=9.709759\n",
      "a=9.709754,b=9.709759\n",
      "a=9.709756,b=9.709759\n",
      "a=9.709758,b=9.709759\n",
      "a=9.709758,b=9.709759\n",
      "a=9.709758,b=9.709759\n",
      "a=9.709759,b=9.709759\n",
      "a=9.709759,b=9.709759\n",
      "a=9.709759,b=9.709759\n",
      "a=9.709759,b=9.709759\n",
      "a=9.709759,b=9.709759\n",
      "a=9.709759,b=9.709759\n",
      "a=9.709759,b=9.709759\n",
      "*-------------end-------------*\n",
      "solition:9.709759\n",
      "calc_result: 6.797995411034208e-08\n"
     ]
    }
   ],
   "source": [
    "# 関数化\n",
    "def bisection(a:int, b:int, e:float, f):\n",
    "    #初期値の設定\n",
    "    fa = f(a)\n",
    "    fb = f(b)\n",
    "    c  = (a+b)/2\n",
    "    fc = f(c)\n",
    "    print('*----------Processing----------*')\n",
    "\n",
    "    # 解探索\n",
    "    while(True):\n",
    "        if abs(fc) < e:\n",
    "            print('*-------------end-------------*')\n",
    "            print(f'solition:{c:.6f}')\n",
    "            break\n",
    "        elif fc*fa > 0:\n",
    "            a = c\n",
    "            fa = fc\n",
    "            c = (a+b)/2\n",
    "            fc = f(c)\n",
    "            # prefixで記述 -> https://note.nkmk.me/python-f-strings/\n",
    "            print(f'a={a:.6f},b={b:.6f}')\n",
    "        elif fc*fb > 0:\n",
    "            b = c\n",
    "            fb = fc\n",
    "            c = (a+b)/2\n",
    "            fc = f(c)\n",
    "            print(f'a={a:.6f},b={b:.6f}')\n",
    "    return c\n",
    "\n",
    "if __name__ == '__main__':\n",
    "    # 初期値の設定\n",
    "    a,b=-20,20\n",
    "    e  = 1e-7\n",
    "    res = bisection(a,b,e,f)\n",
    "    print('calc_result:',f(res))"
   ]
  },
  {
   "cell_type": "markdown",
   "metadata": {},
   "source": [
    "# ニュートンラプソン法\n",
    "### 定義\n",
    "\\begin{aligned} x_{n+1} &=x_n - \\frac{f(x_n)}{f'(x_n)} \\end{aligned}"
   ]
  },
  {
   "cell_type": "code",
   "execution_count": 93,
   "metadata": {},
   "outputs": [
    {
     "name": "stdout",
     "output_type": "stream",
     "text": [
      "start_x=15.000000\n",
      "*----------Processing----------*\n",
      "x=11.328125\n",
      "x=9.924667\n",
      "x=9.714249\n",
      "x=9.709761\n",
      "x=9.709759\n",
      "*-------------end-------------*\n",
      "solition:9.709759\n",
      "calc_result: 1.2244072422618046e-10\n"
     ]
    }
   ],
   "source": [
    "# 数値微分 http://www.f.waseda.jp/yusukekondo/TALLFALL19/TALLFALL0301.html\n",
    "def numerical_diff(x,f):\n",
    "    h = 1e-4 # 0.0001\n",
    "    nd = (f(x+h) - f(x-h))/(2 * h)\n",
    "    return nd\n",
    "\n",
    "def NewtonMethod(x:float, e:float, f, max_cnt = 20):\n",
    "    i=0\n",
    "    df = numerical_diff\n",
    "    print(f'start_x={x:.6f}')\n",
    "    print('*----------Processing----------*')\n",
    "    while(True):\n",
    "        x_new = x - f(x)/df(x,f)\n",
    "        x = x_new\n",
    "        print(f'x={x:.6f}')\n",
    "        i += 1\n",
    "        if abs(f(x) < e) or i > max_cnt:\n",
    "            break\n",
    "    print('*-------------end-------------*')\n",
    "    print(f'solution:{x:.6f}')\n",
    "    \n",
    "    return x\n",
    "    \n",
    "if __name__ == '__main__':\n",
    "    x = 15\n",
    "    e = 1e-7\n",
    "    res = NewtonMethod(x,e,f)\n",
    "    print('calc_result:',f(res))"
   ]
  },
  {
   "cell_type": "code",
   "execution_count": null,
   "metadata": {},
   "outputs": [],
   "source": []
  }
 ],
 "metadata": {
  "kernelspec": {
   "display_name": "Python3.6",
   "language": "python",
   "name": "python3.6.1"
  },
  "language_info": {
   "codemirror_mode": {
    "name": "ipython",
    "version": 3
   },
   "file_extension": ".py",
   "mimetype": "text/x-python",
   "name": "python",
   "nbconvert_exporter": "python",
   "pygments_lexer": "ipython3",
   "version": "3.6.1"
  }
 },
 "nbformat": 4,
 "nbformat_minor": 2
}
